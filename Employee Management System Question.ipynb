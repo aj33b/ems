{
 "cells": [
  {
   "metadata": {},
   "cell_type": "markdown",
   "source": [
    "### **Project Question: Advanced Employee Management System (Python + PostgreSQL)**\n",
    "\n",
    "#### **Objective:**\n",
    "Design and implement a **CLI-based Employee Management System** using **Python and PostgreSQL**. This system should allow for **CRUD (Create, Read, Update, Delete) operations** on employees while incorporating **Object-Oriented Programming (OOP) principles** such as **Inheritance**.\n",
    "\n",
    "Additionally, implement **user authentication** and **salary statistics**.\n",
    "\n",
    "### **Requirements & Functionalities**\n",
    "\n",
    "#### **Database Setup (PostgreSQL)**\n",
    "- Create a database named **`employee_db`**.\n",
    "- Create two tables:\n",
    "  - **`users`** (for authentication)\n",
    "  - **`employees`** (for employee records)\n",
    "- The **users table** should contain:\n",
    "  - `id` (Primary Key, Auto Increment)\n",
    "  - `username` (Unique)\n",
    "  - `password` (Hashed using SHA-256)\n",
    "  - `role` (Either 'admin' or 'employee')\n",
    "- The **employees table** should contain:\n",
    "  - `id` (Primary Key, Auto Increment)\n",
    "  - `name`\n",
    "  - `age`\n",
    "  - `department`\n",
    "  - `salary`\n",
    "\n",
    "#### **Authentication System**\n",
    "- Implement **user authentication** using a **username-password system**.\n",
    "- Passwords should be **hashed** before storing them.\n",
    "- Users should be assigned **roles** (`admin` or `employee`).\n",
    "- **Admins** should be able to add new users.\n",
    "\n",
    "---\n",
    "\n",
    "#### **CRUD Operations on Employees**\n",
    "- **Add Employee**: Admins can add employees with name, age, department, and salary.\n",
    "- **View Employees**: Users can list employees\n",
    "- **Search Employee**: Users can search employees by `name` or `department`.\n",
    "- **Update Employee**: Modify an employee’s details.\n",
    "- **Delete Employee**: Remove an employee record.\n",
    "\n",
    "---\n",
    "\n",
    "#### **Advanced Features**\n",
    "- **Salary Statistics**: Show **Min, Max, and Average Salary** from all employees.\n",
    "- **CSV Export**: Allow exporting employee data to a CSV file.\n",
    "\n",
    "---\n",
    "\n",
    "### **Programming Constraints**\n",
    "- **Use PostgreSQL (`psycopg2`)** for database connections.\n",
    "- **Do NOT use ORMs (e.g., SQLAlchemy)**—write SQL queries manually.\n",
    "- **Use OOP Principles**:\n",
    "  - `Database` class for database connection handling.\n",
    "  - `User` class for authentication, with an `Admin` subclass (Inheritance).\n",
    "  - `EmployeeManager` class for CRUD operations."
   ],
   "id": "675ae3595c54dd83"
  },
  {
   "metadata": {
    "ExecuteTime": {
     "end_time": "2025-02-28T03:04:13.349707Z",
     "start_time": "2025-02-28T03:04:13.346784Z"
    }
   },
   "cell_type": "code",
   "source": [
    "import hashlib\n",
    "\n",
    "password = \"admin\"\n",
    "hashed_password = hashlib.sha256(password.encode()).hexdigest()\n",
    "print(hashed_password)"
   ],
   "id": "34701aca1f1b8657",
   "outputs": [
    {
     "name": "stdout",
     "output_type": "stream",
     "text": [
      "8c6976e5b5410415bde908bd4dee15dfb167a9c873fc4bb8a81f6f2ab448a918\n"
     ]
    }
   ],
   "execution_count": 1
  }
 ],
 "metadata": {
  "kernelspec": {
   "display_name": "Python 3",
   "language": "python",
   "name": "python3"
  },
  "language_info": {
   "codemirror_mode": {
    "name": "ipython",
    "version": 2
   },
   "file_extension": ".py",
   "mimetype": "text/x-python",
   "name": "python",
   "nbconvert_exporter": "python",
   "pygments_lexer": "ipython2",
   "version": "2.7.6"
  }
 },
 "nbformat": 4,
 "nbformat_minor": 5
}
